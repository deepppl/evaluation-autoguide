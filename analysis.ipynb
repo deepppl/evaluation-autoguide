{
 "metadata": {
  "language_info": {
   "codemirror_mode": {
    "name": "ipython",
    "version": 3
   },
   "file_extension": ".py",
   "mimetype": "text/x-python",
   "name": "python",
   "nbconvert_exporter": "python",
   "pygments_lexer": "ipython3",
   "version": "3.9.1"
  },
  "orig_nbformat": 2,
  "kernelspec": {
   "name": "python391jvsc74a57bd0a6d4fa88195df4ba064d298f24e063009233aa3011e2299d4eee753ecb28bca5",
   "display_name": "Python 3.9.1 64-bit"
  }
 },
 "nbformat": 4,
 "nbformat_minor": 2,
 "cells": [
  {
   "cell_type": "code",
   "execution_count": null,
   "metadata": {},
   "outputs": [],
   "source": [
    "import pandas as pd\n",
    "import scipy.stats\n",
    "import os\n",
    "import numpy as np"
   ]
  },
  {
   "cell_type": "code",
   "execution_count": null,
   "metadata": {},
   "outputs": [],
   "source": [
    "def format_status(status, rel_err):\n",
    "    if np.isnan(rel_err):\n",
    "        return \"error\"\n",
    "    else:\n",
    "        return status\n",
    "\n",
    "def format_err(status, rel_err):\n",
    "    if status == \"success\":\n",
    "        return f\"G[{rel_err:.2f}]\"\n",
    "    elif status == \"mismatch\":\n",
    "        return f\"R[{rel_err:.2f}]\"\n",
    "    else:\n",
    "        return \"ERROR\"\n",
    "\n",
    "def preprocess(name, logdir=\"logs\"):\n",
    "    f= next(f for f in os.listdir(logdir) if f\"_{name}_\" in f)\n",
    "    df = pd.read_csv(f\"{logdir}/{f}\", index_col=0)\n",
    "    df[\"status\"] = df.apply(lambda x: format_status(x.status, x.rel_err), axis=1)\n",
    "    df[\"err\"] = df.apply(lambda x: format_err(x.status, x.rel_err), axis=1)\n",
    "    df.columns = [f\"{name}_{x}\" for x in df.columns]\n",
    "    df\n",
    "\n",
    "    return df"
   ]
  },
  {
   "cell_type": "code",
   "execution_count": null,
   "metadata": {},
   "outputs": [],
   "source": [
    "bnaf = preprocess(\"AutoBNAFNormal\")\n",
    "delta = preprocess(\"AutoDelta\")\n",
    "diag = preprocess(\"AutoDiagonalNormal\")\n",
    "iaf = preprocess(\"AutoIAFNormal\")\n",
    "laplace = preprocess(\"AutoLaplaceApproximation\")\n",
    "lowrank = preprocess(\"AutoLowRankMultivariateNormal\")\n",
    "multi = preprocess(\"AutoMultivariateNormal\")\n",
    "auto = preprocess(\"AutoNormal\")\n",
    "\n",
    "res = pd.concat([bnaf, delta, diag, iaf, laplace, lowrank, multi, auto], axis=1)"
   ]
  },
  {
   "cell_type": "code",
   "execution_count": null,
   "metadata": {},
   "outputs": [],
   "source": [
    "res['example'] = res.index.map(lambda x: x.split(\"-\")[1])\n",
    "res['data'] = res.index.map(lambda x: x.split(\"-\")[0])\n",
    "res = res.sort_values(by='example')\n",
    "res = res.drop([\"mcycle_gp-accel_gp\", \"diamonds-diamonds\",\"gp_pois_regr-gp_pois_regr\", \"gp_pois_regr-gp_regr\", \"hudson_lynx_hare-lotka_volterra\", \"one_comp_mm_elim_abs-one_comp_mm_elim_abs\"])\n"
   ]
  },
  {
   "cell_type": "code",
   "execution_count": null,
   "metadata": {},
   "outputs": [],
   "source": [
    "status = res[[\n",
    "    \"AutoBNAFNormal_status\",\n",
    "    \"AutoDelta_status\",\n",
    "    \"AutoDiagonalNormal_status\",\n",
    "    \"AutoIAFNormal_status\",\n",
    "    \"AutoLaplaceApproximation_status\",\n",
    "    \"AutoLowRankMultivariateNormal_status\",\n",
    "    \"AutoMultivariateNormal_status\",\n",
    "    \"AutoNormal_status\"\n",
    "]].apply(pd.value_counts)"
   ]
  },
  {
   "cell_type": "code",
   "execution_count": null,
   "metadata": {},
   "outputs": [],
   "source": [
    "\n",
    "print(\n",
    "    res[\n",
    "        [\n",
    "            \"AutoBNAFNormal_err\",\n",
    "            \"AutoDelta_err\",\n",
    "            \"AutoDiagonalNormal_err\",\n",
    "            \"AutoIAFNormal_err\",\n",
    "            \"AutoLaplaceApproximation_err\",\n",
    "            \"AutoLowRankMultivariateNormal_err\",\n",
    "            \"AutoMultivariateNormal_err\",\n",
    "            \"AutoNormal_err\"\n",
    "        ]\n",
    "    ].to_latex()\n",
    "    .replace(\"G[\", \"\\Green{\")\n",
    "    .replace(\"R[\", \"\\Red{\")\n",
    "    .replace(\"]\", \"}\")\n",
    "    .replace(\"ERROR\", \"\\emark\")\n",
    ")"
   ]
  },
  {
   "cell_type": "code",
   "execution_count": null,
   "metadata": {},
   "outputs": [],
   "source": [
    "print(status.to_latex())"
   ]
  },
  {
   "cell_type": "code",
   "execution_count": null,
   "metadata": {},
   "outputs": [],
   "source": [
    "avg = res[[\n",
    "            \"AutoBNAFNormal_rel_err\",\n",
    "            \"AutoDelta_rel_err\",\n",
    "            \"AutoDiagonalNormal_rel_err\",\n",
    "            \"AutoIAFNormal_rel_err\",\n",
    "            \"AutoLaplaceApproximation_rel_err\",\n",
    "            \"AutoLowRankMultivariateNormal_rel_err\",\n",
    "            \"AutoMultivariateNormal_rel_err\",\n",
    "            \"AutoNormal_rel_err\"\n",
    "        ]].mean(axis=0)\n",
    "avg = avg.apply(lambda x: f\"{x:.2f}\")"
   ]
  },
  {
   "cell_type": "code",
   "execution_count": null,
   "metadata": {},
   "outputs": [],
   "source": [
    "print(pd.DataFrame([avg.to_list()], columns=list(avg.index), index=[\"Average\"]).to_latex())"
   ]
  },
  {
   "cell_type": "code",
   "execution_count": null,
   "metadata": {},
   "outputs": [],
   "source": []
  }
 ]
}