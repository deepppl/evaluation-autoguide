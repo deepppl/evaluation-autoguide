{
 "metadata": {
  "language_info": {
   "codemirror_mode": {
    "name": "ipython",
    "version": 3
   },
   "file_extension": ".py",
   "mimetype": "text/x-python",
   "name": "python",
   "nbconvert_exporter": "python",
   "pygments_lexer": "ipython3",
   "version": "3.9.1"
  },
  "orig_nbformat": 2,
  "kernelspec": {
   "name": "python391jvsc74a57bd0a6d4fa88195df4ba064d298f24e063009233aa3011e2299d4eee753ecb28bca5",
   "display_name": "Python 3.9.1 64-bit"
  }
 },
 "nbformat": 4,
 "nbformat_minor": 2,
 "cells": [
  {
   "cell_type": "code",
   "execution_count": 1,
   "metadata": {},
   "outputs": [],
   "source": [
    "import pandas as pd\n",
    "import scipy.stats\n",
    "import os"
   ]
  },
  {
   "cell_type": "code",
   "execution_count": 2,
   "metadata": {},
   "outputs": [],
   "source": [
    "def format_err(status, rel_err):\n",
    "    if status == \"success\":\n",
    "        return f\"G[{rel_err:.2f}]\"\n",
    "    elif status == \"mismatch\":\n",
    "        return f\"R[{rel_err:.2f}]\"\n",
    "    else:\n",
    "        return \"ERROR\"\n",
    "\n",
    "def preprocess(name, logdir=\"logs\"):\n",
    "    f= next(f for f in os.listdir(logdir) if f\"_{name}_\" in f)\n",
    "    df = pd.read_csv(f\"{logdir}/{f}\", index_col=0)\n",
    "    df[\"err\"] = df.apply(lambda x: format_err(x.status, x.rel_err), axis=1)\n",
    "    df.columns = [f\"{name}_{x}\" for x in df.columns]\n",
    "    df\n",
    "\n",
    "    return df"
   ]
  },
  {
   "cell_type": "code",
   "execution_count": 4,
   "metadata": {},
   "outputs": [],
   "source": [
    "auto = preprocess(\"AutoNormal\")\n",
    "bnaf = preprocess(\"AutoBNAFNormal\")\n",
    "res = pd.concat([auto, bnaf], axis=1)"
   ]
  },
  {
   "cell_type": "code",
   "execution_count": 6,
   "metadata": {},
   "outputs": [],
   "source": [
    "res['example'] = res.index.map(lambda x: x.split(\"-\")[1])\n",
    "res['data'] = res.index.map(lambda x: x.split(\"-\")[0])\n",
    "res = res.sort_values(by='example')"
   ]
  },
  {
   "cell_type": "code",
   "execution_count": 7,
   "metadata": {},
   "outputs": [
    {
     "output_type": "stream",
     "name": "stdout",
     "text": [
      "\\begin{tabular}{llll}\n\\toprule\n                  example &                 data & AutoNormal\\_err & AutoBNAFNormal\\_err \\\\\n\\midrule\n                 accel\\_gp &            mcycle\\_gp &          \\emark &              \\emark \\\\\n                      arK &                  arK &        \\Green{0.17] &            \\Green{0.26] \\\\\n                   arma11 &                 arma &          \\emark &              \\emark \\\\\n                      blr &                sblri &        \\Red{0.64] &            \\Red{1.96] \\\\\n                      blr &                sblrc &        \\Green{0.27] &            \\Red{1.05] \\\\\n                 diamonds &             diamonds &          \\emark &              \\emark \\\\\n                     dogs &                 dogs &        \\Green{0.13] &            \\Green{0.10] \\\\\n                 dogs\\_log &                 dogs &        \\Green{0.07] &              \\emark \\\\\n              earn\\_height &             earnings &       \\Red{24.55] &            \\Green{0.30] \\\\\n   eight\\_schools\\_centered &        eight\\_schools &        \\Red{0.62] &            \\Green{0.13] \\\\\neight\\_schools\\_noncentered &        eight\\_schools &        \\Green{0.26] &            \\Green{0.07] \\\\\n                  garch11 &                garch &        \\Red{2.69] &            \\Red{2.68] \\\\\n             gp\\_pois\\_regr &         gp\\_pois\\_regr &          \\emark &              \\emark \\\\\n                  gp\\_regr &         gp\\_pois\\_regr &          \\emark &              \\emark \\\\\n              hmm\\_drive\\_0 &  bball\\_drive\\_event\\_0 &          \\emark &              \\emark \\\\\n              hmm\\_drive\\_1 &  bball\\_drive\\_event\\_1 &          \\emark &              \\emark \\\\\n              hmm\\_example &          hmm\\_example &          \\emark &              \\emark \\\\\n     kidscore\\_interaction &                kidiq &        \\Red{2.47] &            \\Red{0.62] \\\\\n   kidscore\\_interaction\\_c &  kidiq\\_with\\_mom\\_work &       \\Red{46.71] &            \\Red{0.73] \\\\\n  kidscore\\_interaction\\_c2 &  kidiq\\_with\\_mom\\_work &       \\Red{34.13] &            \\Red{0.67] \\\\\n   kidscore\\_interaction\\_z &  kidiq\\_with\\_mom\\_work &       \\Red{46.45] &            \\Red{0.70] \\\\\n        kidscore\\_mom\\_work &  kidiq\\_with\\_mom\\_work &       \\Red{15.95] &            \\Red{0.65] \\\\\n           kidscore\\_momhs &                kidiq &       \\Red{15.83] &            \\Green{0.19] \\\\\n         kidscore\\_momhsiq &                kidiq &        \\Red{2.44] &            \\Green{0.27] \\\\\n           kidscore\\_momiq &                kidiq &        \\Red{2.21] &            \\Green{0.10] \\\\\n              kilpisjarvi &      kilpisjarvi\\_mod &        \\Red{1.98] &            \\Red{2.12] \\\\\n         log10earn\\_height &             earnings &        \\Green{0.19] &            \\Green{0.12] \\\\\n           logearn\\_height &             earnings &        \\Red{1.08] &            \\Green{0.13] \\\\\n      logearn\\_height\\_male &             earnings &        \\Red{4.21] &            \\Green{0.25] \\\\\n      logearn\\_interaction &             earnings &        \\Red{5.51] &            \\Red{0.56] \\\\\n    logearn\\_interaction\\_z &             earnings &        \\Green{0.15] &            \\Red{0.67] \\\\\n   logearn\\_logheight\\_male &             earnings &        \\Red{1.22] &            \\Red{0.45] \\\\\n              logmesquite &             mesquite &        \\Green{0.05] &            \\Green{0.15] \\\\\n        logmesquite\\_logva &             mesquite &        \\Green{0.05] &            \\Red{0.34] \\\\\n       logmesquite\\_logvas &             mesquite &        \\Green{0.13] &            \\Green{0.14] \\\\\n      logmesquite\\_logvash &             mesquite &        \\Green{0.05] &            \\Green{0.22] \\\\\n    logmesquite\\_logvolume &             mesquite &        \\Green{0.04] &            \\Red{0.32] \\\\\n           lotka\\_volterra &     hudson\\_lynx\\_hare &          \\emark &              \\emark \\\\\n        low\\_dim\\_gauss\\_mix &    low\\_dim\\_gauss\\_mix &        \\Green{0.27] &            \\Red{0.68] \\\\\n                 mesquite &             mesquite &       \\Red{10.94] &            \\Green{0.16] \\\\\n                      nes &              nes1988 &        \\Green{0.11] &            \\Green{0.18] \\\\\n                      nes &              nes1972 &        \\Green{0.15] &            \\Green{0.19] \\\\\n                      nes &              nes1984 &        \\Green{0.14] &            \\Green{0.16] \\\\\n                      nes &              nes1980 &        \\Green{0.13] &            \\Green{0.14] \\\\\n                      nes &              nes2000 &        \\Green{0.12] &            \\Green{0.12] \\\\\n                      nes &              nes1976 &        \\Green{0.13] &            \\Green{0.19] \\\\\n                      nes &              nes1992 &        \\Green{0.13] &            \\Green{0.18] \\\\\n                      nes &              nes1996 &        \\Green{0.14] &            \\Green{0.17] \\\\\n     one\\_comp\\_mm\\_elim\\_abs & one\\_comp\\_mm\\_elim\\_abs &          \\emark &              \\emark \\\\\n\\bottomrule\n\\end{tabular}\n\n"
     ]
    }
   ],
   "source": [
    "print(\n",
    "    res[\n",
    "        [\n",
    "            \"example\",\n",
    "            \"data\",\n",
    "            \"AutoNormal_err\",\n",
    "            \"AutoBNAFNormal_err\"\n",
    "        ]\n",
    "    ].to_latex(index=False)\n",
    "    .replace(\"G[\", \"\\Green{\")\n",
    "    .replace(\"R[\", \"\\Red{\")\n",
    "    .replace(\"]\", \"]\")\n",
    "    .replace(\"ERROR\", \"\\emark\")\n",
    "    .replace(\"NaN\", \"\")\n",
    "    .replace(\"nan\", \"\")\n",
    ")"
   ]
  },
  {
   "cell_type": "code",
   "execution_count": null,
   "metadata": {},
   "outputs": [],
   "source": []
  }
 ]
}